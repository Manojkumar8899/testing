{
 "cells": [
  {
   "cell_type": "markdown",
   "metadata": {},
   "source": [
    "# Project 2 : Working With Web Data\n",
    "## Author : Manoj Kumar Singade"
   ]
  },
  {
   "cell_type": "markdown",
   "metadata": {},
   "source": [
    "# Task 1: XML Sitemap Parsing for Khan Academy\n",
    "\n",
    "This notebook demonstrates the use of the `XMLSitemapExtractor` class for extracting and parsing XML sitemaps from the Khan Academy website. The aim is to retrieve structured URL data from the site's sitemaps and explore potential applications of this data.\n"
   ]
  },
  {
   "cell_type": "markdown",
   "metadata": {},
   "source": [
    "## Importing the XMLSitemapExtractor\n",
    "\n",
    "First, we import the `XMLSitemapExtractor` class from our custom Python module.\n"
   ]
  },
  {
   "cell_type": "code",
   "execution_count": null,
   "metadata": {},
   "outputs": [],
   "source": [
    "from src.web_data.sitemapParser import XMLSitemapExtractor\n"
   ]
  },
  {
   "cell_type": "markdown",
   "metadata": {},
   "source": [
    "## Initializing the Sitemap Extractor\n",
    "\n",
    "We will initialize the extractor with Khan Academy's website URL to begin extracting sitemaps.\n"
   ]
  },
  {
   "cell_type": "code",
   "execution_count": null,
   "metadata": {},
   "outputs": [],
   "source": [
    "# Replace with the actual website URL you are targeting\n",
    "website_url = \"https://www.khanacademy.org\"\n",
    "sitemap_extractor = XMLSitemapExtractor(website_url)\n"
   ]
  },
  {
   "cell_type": "markdown",
   "metadata": {},
   "source": [
    "## Processing and Parsing Sitemaps\n",
    "\n",
    "The extractor processes all sitemaps found in the website's `robots.txt` file. It retrieves each sitemap and parses the contained URLs.\n"
   ]
  },
  {
   "cell_type": "code",
   "execution_count": null,
   "metadata": {},
   "outputs": [],
   "source": [
    "sitemap_extractor.process_all_sitemaps()\n"
   ]
  },
  {
   "cell_type": "markdown",
   "metadata": {},
   "source": [
    "## Saving the Extracted Data\n",
    "\n",
    "The parsed data from each sitemap is saved as a separate CSV file for easy access and analysis.\n"
   ]
  },
  {
   "cell_type": "code",
   "execution_count": null,
   "metadata": {},
   "outputs": [],
   "source": [
    "# Save the parsed data into CSV files\n",
    "sitemap_extractor.save_to_csv()\n"
   ]
  },
  {
   "cell_type": "markdown",
   "metadata": {},
   "source": [
    "## Reviewing a Sample of the Extracted Data\n",
    "\n",
    "Let's load and review a portion of the extracted data to understand its structure and contents.\n"
   ]
  },
  {
   "cell_type": "code",
   "execution_count": null,
   "metadata": {},
   "outputs": [
    {
     "data": {
      "text/html": [
       "<div>\n",
       "<style scoped>\n",
       "    .dataframe tbody tr th:only-of-type {\n",
       "        vertical-align: middle;\n",
       "    }\n",
       "\n",
       "    .dataframe tbody tr th {\n",
       "        vertical-align: top;\n",
       "    }\n",
       "\n",
       "    .dataframe thead th {\n",
       "        text-align: right;\n",
       "    }\n",
       "</style>\n",
       "<table border=\"1\" class=\"dataframe\">\n",
       "  <thead>\n",
       "    <tr style=\"text-align: right;\">\n",
       "      <th></th>\n",
       "      <th>ExtractedURLs</th>\n",
       "      <th>Subdir_1</th>\n",
       "      <th>Subdir_2</th>\n",
       "      <th>Subdir_3</th>\n",
       "      <th>Subdir_4</th>\n",
       "      <th>Subdir_5</th>\n",
       "      <th>Subdir_6</th>\n",
       "    </tr>\n",
       "  </thead>\n",
       "  <tbody>\n",
       "    <tr>\n",
       "      <th>0</th>\n",
       "      <td>https://www.khanacademy.org/sitemaps/kmap/meas...</td>\n",
       "      <td>sitemaps</td>\n",
       "      <td>kmap</td>\n",
       "      <td>measurement-and-data-d</td>\n",
       "      <td>sitemap.xml</td>\n",
       "      <td>NaN</td>\n",
       "      <td>NaN</td>\n",
       "    </tr>\n",
       "    <tr>\n",
       "      <th>1</th>\n",
       "      <td>https://www.khanacademy.org/sitemaps/humanitie...</td>\n",
       "      <td>sitemaps</td>\n",
       "      <td>humanities</td>\n",
       "      <td>whp-1750</td>\n",
       "      <td>sitemap.xml</td>\n",
       "      <td>NaN</td>\n",
       "      <td>NaN</td>\n",
       "    </tr>\n",
       "    <tr>\n",
       "      <th>2</th>\n",
       "      <td>https://www.khanacademy.org/sitemaps/ela/cc-4t...</td>\n",
       "      <td>sitemaps</td>\n",
       "      <td>ela</td>\n",
       "      <td>cc-4th-reading-vocab</td>\n",
       "      <td>sitemap.xml</td>\n",
       "      <td>NaN</td>\n",
       "      <td>NaN</td>\n",
       "    </tr>\n",
       "    <tr>\n",
       "      <th>3</th>\n",
       "      <td>https://www.khanacademy.org/sitemaps/science/i...</td>\n",
       "      <td>sitemaps</td>\n",
       "      <td>science</td>\n",
       "      <td>inorganic-chemistry-essentials-class-12</td>\n",
       "      <td>sitemap.xml</td>\n",
       "      <td>NaN</td>\n",
       "      <td>NaN</td>\n",
       "    </tr>\n",
       "    <tr>\n",
       "      <th>4</th>\n",
       "      <td>https://www.khanacademy.org/sitemaps/math/arit...</td>\n",
       "      <td>sitemaps</td>\n",
       "      <td>math</td>\n",
       "      <td>arithmetic</td>\n",
       "      <td>sitemap.xml</td>\n",
       "      <td>NaN</td>\n",
       "      <td>NaN</td>\n",
       "    </tr>\n",
       "  </tbody>\n",
       "</table>\n",
       "</div>"
      ],
      "text/plain": [
       "                                       ExtractedURLs  Subdir_1    Subdir_2  \\\n",
       "0  https://www.khanacademy.org/sitemaps/kmap/meas...  sitemaps        kmap   \n",
       "1  https://www.khanacademy.org/sitemaps/humanitie...  sitemaps  humanities   \n",
       "2  https://www.khanacademy.org/sitemaps/ela/cc-4t...  sitemaps         ela   \n",
       "3  https://www.khanacademy.org/sitemaps/science/i...  sitemaps     science   \n",
       "4  https://www.khanacademy.org/sitemaps/math/arit...  sitemaps        math   \n",
       "\n",
       "                                  Subdir_3     Subdir_4 Subdir_5 Subdir_6  \n",
       "0                   measurement-and-data-d  sitemap.xml      NaN      NaN  \n",
       "1                                 whp-1750  sitemap.xml      NaN      NaN  \n",
       "2                     cc-4th-reading-vocab  sitemap.xml      NaN      NaN  \n",
       "3  inorganic-chemistry-essentials-class-12  sitemap.xml      NaN      NaN  \n",
       "4                               arithmetic  sitemap.xml      NaN      NaN  "
      ]
     },
     "execution_count": 5,
     "metadata": {},
     "output_type": "execute_result"
    }
   ],
   "source": [
    "import pandas as pd\n",
    "\n",
    "# Example of loading one of the saved CSV files\n",
    "sample_csv_path = 'sitemap.csv'\n",
    "sample_dataframe = pd.read_csv(sample_csv_path)\n",
    "\n",
    "# Display the first few rows of the DataFrame\n",
    "sample_dataframe.head()\n"
   ]
  },
  {
   "cell_type": "markdown",
   "metadata": {},
   "source": [
    "# Dataset Description and Potential Uses\n",
    "\n",
    "## Dataset Description\n",
    "\n",
    "The dataset obtained from Khan Academy's XML sitemaps includes the following columns:\n",
    "\n",
    "- **ExtractedURLs**: Full URLs extracted from the sitemaps, representing specific pages or resources on the Khan Academy website.\n",
    "- **Subdir_1 to Subdir_6**: Hierarchical structure of the URLs. Each column represents a level in the website's directory path, with `Subdir_1` being the top level. 'NaN' values indicate the absence of further subdirectories at that level.\n",
    "\n",
    "## Potential Uses of the Dataset\n",
    "\n",
    "1. **Content Analysis and Categorization**: \n",
    "   - Analyze and categorize the educational content offered by Khan Academy.\n",
    "   - Useful for understanding the range and organization of their educational materials.\n",
    "\n",
    "2. **SEO and Web Structure Analysis**: \n",
    "   - Utilize the dataset to analyze the website's structure for SEO strategy planning.\n",
    "   - Helpful in ensuring that important pages are correctly listed in the sitemaps.\n",
    "\n",
    "3. **Automated Link Checking**: \n",
    "   - Use the dataset for automated checks for broken links or sitemap consistency.\n",
    "\n",
    "4. **Educational Research**: \n",
    "   - Facilitate research in online education by studying the breadth and organization of subjects and courses.\n",
    "   - Correlate the website's structure with user engagement or academic outcomes.\n",
    "\n",
    "5. **Navigation and User Experience Analysis**: \n",
    "   - Analyze how content is structured and navigated to gain insights into user journey mapping on the website.\n",
    "\n",
    "## Next Steps\n",
    "\n",
    "With this comprehensive dataset, further analysis can be conducted, such as visualizing the distribution of content across different subjects or analyzing the depth of content hierarchy. This can be augmented with additional data sources for more insightful analysis.\n"
   ]
  },
  {
   "cell_type": "markdown",
   "metadata": {},
   "source": [
    "#### We successfully utilized the `XMLSitemapExtractor` class to extract and parse XML sitemaps from the Khan Academy website. This process yielded a structured dataset comprising the URLs of various educational resources and content pages, categorized into hierarchical subdirectories.\n",
    "\n",
    "### Key Achievements:\n",
    "- **Structured Data Extraction**: We effectively transformed the XML sitemap data into a structured pandas DataFrame, making it easier to analyze and manipulate.\n",
    "- **Insight into Website Organization**: The dataset provided a clear view of Khan Academy's website structure, revealing how educational content is organized and presented.\n",
    "\n",
    "### Future Directions:\n",
    "- **Deeper Content Analysis**: The extracted data opens avenues for a more detailed analysis of the content distribution across different educational subjects and categories.\n",
    "- **Enhanced SEO and UX Strategies**: The insights gained from this dataset can inform SEO optimization and user experience improvements for similar educational platforms.\n",
    "- **Application in Educational Research**: This dataset can be a valuable asset in educational research, particularly in studying online learning platforms' content organization and accessibility.\n",
    "\n",
    "Overall, the extraction and parsing of Khan Academy's XML sitemaps have demonstrated a practical application of web scraping techniques, showcasing their potential in extracting valuable data from web resources.\n"
   ]
  },
  {
   "cell_type": "markdown",
   "metadata": {},
   "source": [
    "# Task 2- Fetching Air Quality Data Using OpenAQ API\n",
    "\n",
    "This notebook demonstrates the process of fetching air quality data using the OpenAQ API. We use the `OpenAQDataFetcher` class to retrieve and structure the data into a pandas DataFrame.\n"
   ]
  },
  {
   "cell_type": "markdown",
   "metadata": {},
   "source": [
    "## Importing the OpenAQDataFetcher\n",
    "\n",
    "We start by importing the `OpenAQDataFetcher` class which is used to interact with the OpenAQ API.\n"
   ]
  },
  {
   "cell_type": "code",
   "execution_count": null,
   "metadata": {},
   "outputs": [],
   "source": [
    "from src.my_package.openaq_data_fetcher import OpenAQDataFetcher\n"
   ]
  },
  {
   "cell_type": "markdown",
   "metadata": {},
   "source": [
    "## Setting Up API Request\n",
    "\n",
    "Define the API endpoint, headers, and other parameters for fetching the air quality data.\n"
   ]
  },
  {
   "cell_type": "code",
   "execution_count": null,
   "metadata": {},
   "outputs": [
    {
     "ename": "",
     "evalue": "",
     "output_type": "error",
     "traceback": [
      "\u001b[1;31mRunning cells with 'c:\\Users\\manoj\\AppData\\Local\\Programs\\Python\\Python312\\python.exe' requires the ipykernel package.\n",
      "\u001b[1;31mRun the following command to install 'ipykernel' into the Python environment. \n",
      "\u001b[1;31mCommand: 'c:/Users/manoj/AppData/Local/Programs/Python/Python312/python.exe -m pip install ipykernel -U --user --force-reinstall'"
     ]
    }
   ],
   "source": [
    "import os\n",
    "import requests\n",
    "\n",
    "# Load API key from environment variable\n",
    "api_key = os.environ.get('YOUR_API_KEY')\n",
    "\n",
    "# Ensure that the API key is available\n",
    "if not api_key:\n",
    "    raise ValueError(\"API key not found. Set the YOUR_API_KEY environment variable.\")\n",
    "\n",
    "url = \"https://api.openaq.org/v2/measurements?date_from=2000-01-01T00%3A00%3A00Z&date_to=2023-10-03T18%3A14%3A00Z&limit=30000&page=1&offset=0&sort=desc&radius=1000&order_by=datetime\"\n",
    "headers = {\n",
    "    \"X-API-Key\": api_key,\n",
    "    'accept': 'application/json',\n",
    "    'content-type': 'application/json',\n",
    "}\n",
    "\n",
    "# Make the request\n",
    "response = requests.get(url, headers=headers)\n",
    "\n",
    "# Handle the response as needed\n",
    "print(response.json())\n"
   ]
  },
  {
   "cell_type": "markdown",
   "metadata": {},
   "source": [
    "## Fetching Data from the API\n",
    "\n",
    "Using the `OpenAQDataFetcher`, we fetch air quality data and load it into a pandas DataFrame for analysis.\n"
   ]
  },
  {
   "cell_type": "code",
   "execution_count": null,
   "metadata": {},
   "outputs": [],
   "source": [
    "import pandas as pd\n",
    "data_fetcher = OpenAQDataFetcher(url, headers)\n",
    "data = data_fetcher.fetch_data()\n",
    "df = pd.DataFrame(data) if data else pd.DataFrame()\n"
   ]
  },
  {
   "cell_type": "markdown",
   "metadata": {},
   "source": [
    "## Exploring the Dataset\n",
    "\n",
    "The dataset contains various columns providing detailed information on air quality measurements:\n",
    "\n",
    "- **locationId**: Unique identifier for the measurement location.\n",
    "- **location**: Name or description of the measurement location.\n",
    "- **parameter**: Type of pollutant measured (e.g., PM2.5, NO2).\n",
    "- **value**: Measurement value of the pollutant.\n",
    "- **date**: Timestamps of the measurement in UTC and local time.\n",
    "- **unit**: Measurement unit of the pollutant value.\n",
    "- **coordinates**: Geographic coordinates of the measurement location.\n",
    "- **country**: Country code where the measurement is taken.\n",
    "- **city**: City name associated with the measurement.\n",
    "- **isMobile**: Indicates whether the measurement is from a mobile source.\n",
    "- **entity**: The entity responsible for the measurement.\n",
    "- **sensorType**: Type of sensor used for the measurement.\n"
   ]
  },
  {
   "cell_type": "markdown",
   "metadata": {},
   "source": [
    "## Displaying Sample Data\n",
    "\n",
    "Let's display the first few rows of the dataset to get a glimpse of the data structure.\n"
   ]
  },
  {
   "cell_type": "code",
   "execution_count": null,
   "metadata": {},
   "outputs": [
    {
     "data": {
      "text/html": [
       "<div>\n",
       "<style scoped>\n",
       "    .dataframe tbody tr th:only-of-type {\n",
       "        vertical-align: middle;\n",
       "    }\n",
       "\n",
       "    .dataframe tbody tr th {\n",
       "        vertical-align: top;\n",
       "    }\n",
       "\n",
       "    .dataframe thead th {\n",
       "        text-align: right;\n",
       "    }\n",
       "</style>\n",
       "<table border=\"1\" class=\"dataframe\">\n",
       "  <thead>\n",
       "    <tr style=\"text-align: right;\">\n",
       "      <th></th>\n",
       "      <th>locationId</th>\n",
       "      <th>location</th>\n",
       "      <th>parameter</th>\n",
       "      <th>value</th>\n",
       "      <th>date</th>\n",
       "      <th>unit</th>\n",
       "      <th>coordinates</th>\n",
       "      <th>country</th>\n",
       "      <th>city</th>\n",
       "      <th>isMobile</th>\n",
       "      <th>isAnalysis</th>\n",
       "      <th>entity</th>\n",
       "      <th>sensorType</th>\n",
       "    </tr>\n",
       "  </thead>\n",
       "  <tbody>\n",
       "    <tr>\n",
       "      <th>0</th>\n",
       "      <td>1638531</td>\n",
       "      <td>N/A</td>\n",
       "      <td>pm25</td>\n",
       "      <td>11.100000</td>\n",
       "      <td>{'utc': '2023-10-03T18:00:00+00:00', 'local': ...</td>\n",
       "      <td>µg/m³</td>\n",
       "      <td>{'latitude': 32.552794, 'longitude': -117.047286}</td>\n",
       "      <td>US</td>\n",
       "      <td>None</td>\n",
       "      <td>False</td>\n",
       "      <td>None</td>\n",
       "      <td>Governmental Organization</td>\n",
       "      <td>low-cost sensor</td>\n",
       "    </tr>\n",
       "    <tr>\n",
       "      <th>1</th>\n",
       "      <td>1477633</td>\n",
       "      <td>Oroville Mobile</td>\n",
       "      <td>pm25</td>\n",
       "      <td>1.400000</td>\n",
       "      <td>{'utc': '2023-10-03T18:00:00+00:00', 'local': ...</td>\n",
       "      <td>µg/m³</td>\n",
       "      <td>{'latitude': 48.93829, 'longitude': -119.43797}</td>\n",
       "      <td>US</td>\n",
       "      <td>None</td>\n",
       "      <td>False</td>\n",
       "      <td>None</td>\n",
       "      <td>Governmental Organization</td>\n",
       "      <td>low-cost sensor</td>\n",
       "    </tr>\n",
       "    <tr>\n",
       "      <th>2</th>\n",
       "      <td>1461244</td>\n",
       "      <td>Moorestown-Map</td>\n",
       "      <td>temperature</td>\n",
       "      <td>24.149587</td>\n",
       "      <td>{'utc': '2023-10-03T18:00:00+00:00', 'local': ...</td>\n",
       "      <td>c</td>\n",
       "      <td>{'latitude': 39.962521, 'longitude': -74.949837}</td>\n",
       "      <td>US</td>\n",
       "      <td>None</td>\n",
       "      <td>False</td>\n",
       "      <td>None</td>\n",
       "      <td>Governmental Organization</td>\n",
       "      <td>low-cost sensor</td>\n",
       "    </tr>\n",
       "    <tr>\n",
       "      <th>3</th>\n",
       "      <td>1377907</td>\n",
       "      <td>Columbus Baker Stree</td>\n",
       "      <td>pm10</td>\n",
       "      <td>24.000000</td>\n",
       "      <td>{'utc': '2023-10-03T18:00:00+00:00', 'local': ...</td>\n",
       "      <td>µg/m³</td>\n",
       "      <td>{'latitude': 32.4274, 'longitude': -84.9457}</td>\n",
       "      <td>US</td>\n",
       "      <td>None</td>\n",
       "      <td>False</td>\n",
       "      <td>None</td>\n",
       "      <td>Governmental Organization</td>\n",
       "      <td>low-cost sensor</td>\n",
       "    </tr>\n",
       "    <tr>\n",
       "      <th>4</th>\n",
       "      <td>1371119</td>\n",
       "      <td>CAP - Prince's Grant, KZN, ZA.</td>\n",
       "      <td>temperature</td>\n",
       "      <td>24.332639</td>\n",
       "      <td>{'utc': '2023-10-03T18:00:00+00:00', 'local': ...</td>\n",
       "      <td>c</td>\n",
       "      <td>{'latitude': -29.339544, 'longitude': 31.374692}</td>\n",
       "      <td>ZA</td>\n",
       "      <td>None</td>\n",
       "      <td>False</td>\n",
       "      <td>None</td>\n",
       "      <td>Governmental Organization</td>\n",
       "      <td>low-cost sensor</td>\n",
       "    </tr>\n",
       "  </tbody>\n",
       "</table>\n",
       "</div>"
      ],
      "text/plain": [
       "   locationId                         location    parameter      value  \\\n",
       "0     1638531                              N/A         pm25  11.100000   \n",
       "1     1477633                  Oroville Mobile         pm25   1.400000   \n",
       "2     1461244                   Moorestown-Map  temperature  24.149587   \n",
       "3     1377907             Columbus Baker Stree         pm10  24.000000   \n",
       "4     1371119  CAP - Prince's Grant, KZN, ZA.   temperature  24.332639   \n",
       "\n",
       "                                                date   unit  \\\n",
       "0  {'utc': '2023-10-03T18:00:00+00:00', 'local': ...  µg/m³   \n",
       "1  {'utc': '2023-10-03T18:00:00+00:00', 'local': ...  µg/m³   \n",
       "2  {'utc': '2023-10-03T18:00:00+00:00', 'local': ...      c   \n",
       "3  {'utc': '2023-10-03T18:00:00+00:00', 'local': ...  µg/m³   \n",
       "4  {'utc': '2023-10-03T18:00:00+00:00', 'local': ...      c   \n",
       "\n",
       "                                         coordinates country  city  isMobile  \\\n",
       "0  {'latitude': 32.552794, 'longitude': -117.047286}      US  None     False   \n",
       "1    {'latitude': 48.93829, 'longitude': -119.43797}      US  None     False   \n",
       "2   {'latitude': 39.962521, 'longitude': -74.949837}      US  None     False   \n",
       "3       {'latitude': 32.4274, 'longitude': -84.9457}      US  None     False   \n",
       "4   {'latitude': -29.339544, 'longitude': 31.374692}      ZA  None     False   \n",
       "\n",
       "  isAnalysis                     entity       sensorType  \n",
       "0       None  Governmental Organization  low-cost sensor  \n",
       "1       None  Governmental Organization  low-cost sensor  \n",
       "2       None  Governmental Organization  low-cost sensor  \n",
       "3       None  Governmental Organization  low-cost sensor  \n",
       "4       None  Governmental Organization  low-cost sensor  "
      ]
     },
     "execution_count": 15,
     "metadata": {},
     "output_type": "execute_result"
    }
   ],
   "source": [
    "df.head()\n"
   ]
  },
  {
   "cell_type": "markdown",
   "metadata": {},
   "source": [
    "## Potential Uses of the Dataset\n",
    "\n",
    "1. **Environmental Analysis**: Investigate air quality trends in different regions and their impact on environmental health.\n",
    "2. **Public Health Research**: Correlate air quality data with public health issues, such as respiratory diseases.\n",
    "3. **Policy Making**: Inform policy decisions related to environmental protection and air quality standards.\n",
    "4. **Educational Purposes**: Utilize the dataset for educational and awareness programs about air pollution.\n"
   ]
  },
  {
   "cell_type": "markdown",
   "metadata": {},
   "source": [
    "## Saving the Data to CSV\n",
    "\n",
    "After fetching and processing the air quality data, it's a good practice to save the data to a CSV file. This allows for easier access and analysis in the future, without the need to refetch the data from the API.\n"
   ]
  },
  {
   "cell_type": "code",
   "execution_count": null,
   "metadata": {},
   "outputs": [
    {
     "name": "stdout",
     "output_type": "stream",
     "text": [
      "Data successfully saved to air_quality_data.csv\n"
     ]
    }
   ],
   "source": [
    "# Specify the filename\n",
    "csv_filename = 'air_quality_data.csv'\n",
    "\n",
    "# Save the DataFrame to a CSV file\n",
    "df.to_csv(csv_filename, index=False)\n",
    "\n",
    "print(f\"Data successfully saved to {csv_filename}\")\n"
   ]
  },
  {
   "cell_type": "markdown",
   "metadata": {},
   "source": [
    "# Task 3- Theatre Information Scraping Using BeautifulSoup\n",
    "\n",
    "This notebook outlines the process of scraping theatre information from 'https://www.cinemaprofile.com' using the `TheatreScraper` class. The goal is to extract detailed data about theatres, including their names, locations, and other relevant information.\n"
   ]
  },
  {
   "cell_type": "markdown",
   "metadata": {},
   "source": [
    "## Importing the TheatreScraper\n",
    "\n",
    "We begin by importing the `TheatreScraper` class, which encapsulates the logic for web scraping.\n"
   ]
  },
  {
   "cell_type": "code",
   "execution_count": null,
   "metadata": {},
   "outputs": [],
   "source": [
    "from src.web_data.theatre_scraper import TheatreScraper\n"
   ]
  },
  {
   "cell_type": "markdown",
   "metadata": {},
   "source": [
    "## Initializing the Theatre Scraper\n",
    "\n",
    "Initialize the scraper with the base URL of the website from which we want to scrape theatre information.\n"
   ]
  },
  {
   "cell_type": "code",
   "execution_count": null,
   "metadata": {},
   "outputs": [],
   "source": [
    "base_url = 'https://www.cinemaprofile.com/theatre/'\n",
    "scraper = TheatreScraper(base_url)\n"
   ]
  },
  {
   "cell_type": "markdown",
   "metadata": {},
   "source": [
    "## Scraping Theatre Information\n",
    "\n",
    "Using the scraper, we'll extract information about various theatres listed on the site.\n"
   ]
  },
  {
   "cell_type": "code",
   "execution_count": null,
   "metadata": {},
   "outputs": [],
   "source": [
    "theatre_data = scraper.scrape_theatres()\n"
   ]
  },
  {
   "cell_type": "markdown",
   "metadata": {},
   "source": [
    "## Displaying Extracted Data\n",
    "\n",
    "Let's examine the first few rows of our scraped data to get an idea of its structure and the type of information extracted.\n"
   ]
  },
  {
   "cell_type": "code",
   "execution_count": null,
   "metadata": {},
   "outputs": [
    {
     "data": {
      "text/html": [
       "<div>\n",
       "<style scoped>\n",
       "    .dataframe tbody tr th:only-of-type {\n",
       "        vertical-align: middle;\n",
       "    }\n",
       "\n",
       "    .dataframe tbody tr th {\n",
       "        vertical-align: top;\n",
       "    }\n",
       "\n",
       "    .dataframe thead th {\n",
       "        text-align: right;\n",
       "    }\n",
       "</style>\n",
       "<table border=\"1\" class=\"dataframe\">\n",
       "  <thead>\n",
       "    <tr style=\"text-align: right;\">\n",
       "      <th></th>\n",
       "      <th>Name</th>\n",
       "      <th>City</th>\n",
       "      <th>State</th>\n",
       "      <th>Details URL</th>\n",
       "    </tr>\n",
       "  </thead>\n",
       "  <tbody>\n",
       "    <tr>\n",
       "      <th>0</th>\n",
       "      <td>A Plex Ashoka Theatre</td>\n",
       "      <td>Hanamkonda</td>\n",
       "      <td>Telangana</td>\n",
       "      <td>https://www.cinemaprofile.com/theatre/view-a-p...</td>\n",
       "    </tr>\n",
       "    <tr>\n",
       "      <th>1</th>\n",
       "      <td>A World Multiplex Theatre</td>\n",
       "      <td>Botad</td>\n",
       "      <td>Gujarat</td>\n",
       "      <td>https://www.cinemaprofile.com/theatre/view-a-w...</td>\n",
       "    </tr>\n",
       "    <tr>\n",
       "      <th>2</th>\n",
       "      <td>A1 Studio Theatre</td>\n",
       "      <td>Mumbai</td>\n",
       "      <td>Maharashtra</td>\n",
       "      <td>https://www.cinemaprofile.com/theatre/view-a1-...</td>\n",
       "    </tr>\n",
       "    <tr>\n",
       "      <th>3</th>\n",
       "      <td>A1 Theatre</td>\n",
       "      <td>Karur</td>\n",
       "      <td>Tamil Nadu</td>\n",
       "      <td>https://www.cinemaprofile.com/theatre/view-a1-...</td>\n",
       "    </tr>\n",
       "    <tr>\n",
       "      <th>4</th>\n",
       "      <td>Aakriti Cinema Theatre</td>\n",
       "      <td>Rewa</td>\n",
       "      <td>Madhya Pradesh</td>\n",
       "      <td>https://www.cinemaprofile.com/theatre/view-aak...</td>\n",
       "    </tr>\n",
       "  </tbody>\n",
       "</table>\n",
       "</div>"
      ],
      "text/plain": [
       "                        Name        City           State  \\\n",
       "0      A Plex Ashoka Theatre  Hanamkonda       Telangana   \n",
       "1  A World Multiplex Theatre       Botad         Gujarat   \n",
       "2          A1 Studio Theatre      Mumbai     Maharashtra   \n",
       "3                 A1 Theatre       Karur      Tamil Nadu   \n",
       "4     Aakriti Cinema Theatre        Rewa  Madhya Pradesh   \n",
       "\n",
       "                                         Details URL  \n",
       "0  https://www.cinemaprofile.com/theatre/view-a-p...  \n",
       "1  https://www.cinemaprofile.com/theatre/view-a-w...  \n",
       "2  https://www.cinemaprofile.com/theatre/view-a1-...  \n",
       "3  https://www.cinemaprofile.com/theatre/view-a1-...  \n",
       "4  https://www.cinemaprofile.com/theatre/view-aak...  "
      ]
     },
     "execution_count": 13,
     "metadata": {},
     "output_type": "execute_result"
    }
   ],
   "source": [
    "theatre_data.head()\n"
   ]
  },
  {
   "cell_type": "markdown",
   "metadata": {},
   "source": [
    "## Dataset Description\n",
    "\n",
    "The dataset includes the following columns:\n",
    "\n",
    "- **Name**: The name of the theatre.\n",
    "- **City**: The city where the theatre is located.\n",
    "- **State**: The state or region where the theatre is located.\n",
    "- **Details URL**: A URL for more information about each theatre.\n",
    "\n",
    "This dataset provides a comprehensive overview of theatre locations and basic details.\n"
   ]
  },
  {
   "cell_type": "markdown",
   "metadata": {},
   "source": [
    "## Potential Uses of the Dataset\n",
    "\n",
    "1. **Cultural Analytics**: Analyzing the distribution of theatres to study cultural accessibility and trends.\n",
    "2. **Business Intelligence**: For businesses in the entertainment sector to identify potential locations for events or partnerships.\n",
    "3. **Urban Planning and Research**: Understanding the cultural infrastructure of different regions.\n",
    "4. **Tourism and Leisure Industry**: For creating guides and resources related to theatre arts and entertainment.\n"
   ]
  },
  {
   "cell_type": "markdown",
   "metadata": {},
   "source": [
    "## Saving the Data to CSV\n",
    "\n",
    "The scraped data can be saved as a CSV file for offline analysis and record-keeping.\n"
   ]
  },
  {
   "cell_type": "code",
   "execution_count": null,
   "metadata": {},
   "outputs": [],
   "source": [
    "filename = 'theatre_data.csv'\n",
    "scraper.save_to_csv(theatre_data, filename)\n"
   ]
  },
  {
   "cell_type": "markdown",
   "metadata": {},
   "source": [
    "# Task - 4 Analysis of Air Quality Data\n",
    "\n",
    "In this notebook, we will analyze the air quality data obtained from the OpenAQ API. We aim to uncover insights into air pollution levels across different regions and over time, and understand the potential impact on public health and environmental quality.\n"
   ]
  },
  {
   "cell_type": "markdown",
   "metadata": {},
   "source": [
    "## Loading the Dataset and Libraries \n",
    "\n",
    "We start by loading the air quality data into a DataFrame for analysi and Importing Libraries for our analysis.\n"
   ]
  },
  {
   "cell_type": "code",
   "execution_count": null,
   "metadata": {},
   "outputs": [],
   "source": [
    "import pandas as pd\n",
    "import matplotlib.pyplot as plt\n",
    "import seaborn as sns\n",
    "import ast\n",
    "\n",
    "\n",
    "# Load the dataset \n",
    "df = pd.read_csv('air_quality_data.csv')\n"
   ]
  },
  {
   "cell_type": "markdown",
   "metadata": {},
   "source": [
    "## Data Cleaning and Preparation\n",
    "\n",
    "Before analysis, we clean and prepare the data by handling missing values, parsing dates, and potentially transforming or creating new variables for better insights.\n",
    "\n",
    "We prepare the data by parsing the 'date' field and handling missing values.\n"
   ]
  },
  {
   "cell_type": "code",
   "execution_count": null,
   "metadata": {},
   "outputs": [],
   "source": [
    "# Helper function to parse the 'date' field\n",
    "def parse_date(date_str):\n",
    "    try:\n",
    "        date_dict = ast.literal_eval(date_str)\n",
    "        return date_dict['utc']\n",
    "    except:\n",
    "        return None\n",
    "\n",
    "# Apply the function to the 'date' column\n",
    "df['date'] = df['date'].apply(parse_date)\n",
    "\n",
    "# Convert 'date' from string to datetime object\n",
    "df['date'] = pd.to_datetime(df['date'])\n",
    "\n",
    "# Dropping rows with missing values in 'value' column\n",
    "df.dropna(subset=['value'], inplace=True)\n"
   ]
  },
  {
   "cell_type": "markdown",
   "metadata": {},
   "source": [
    "## Summary Statistics for Major Pollutants\n",
    "\n",
    "We examine the distribution of major pollutants in the dataset.\n"
   ]
  },
  {
   "cell_type": "code",
   "execution_count": null,
   "metadata": {},
   "outputs": [
    {
     "data": {
      "text/html": [
       "<div>\n",
       "<style scoped>\n",
       "    .dataframe tbody tr th:only-of-type {\n",
       "        vertical-align: middle;\n",
       "    }\n",
       "\n",
       "    .dataframe tbody tr th {\n",
       "        vertical-align: top;\n",
       "    }\n",
       "\n",
       "    .dataframe thead th {\n",
       "        text-align: right;\n",
       "    }\n",
       "</style>\n",
       "<table border=\"1\" class=\"dataframe\">\n",
       "  <thead>\n",
       "    <tr style=\"text-align: right;\">\n",
       "      <th></th>\n",
       "      <th>count</th>\n",
       "      <th>mean</th>\n",
       "      <th>std</th>\n",
       "      <th>min</th>\n",
       "      <th>25%</th>\n",
       "      <th>50%</th>\n",
       "      <th>75%</th>\n",
       "      <th>max</th>\n",
       "    </tr>\n",
       "    <tr>\n",
       "      <th>parameter</th>\n",
       "      <th></th>\n",
       "      <th></th>\n",
       "      <th></th>\n",
       "      <th></th>\n",
       "      <th></th>\n",
       "      <th></th>\n",
       "      <th></th>\n",
       "      <th></th>\n",
       "    </tr>\n",
       "  </thead>\n",
       "  <tbody>\n",
       "    <tr>\n",
       "      <th>co</th>\n",
       "      <td>102.0</td>\n",
       "      <td>33.926408</td>\n",
       "      <td>161.245640</td>\n",
       "      <td>0.000</td>\n",
       "      <td>0.200000</td>\n",
       "      <td>0.200000</td>\n",
       "      <td>0.300000</td>\n",
       "      <td>1330.000000</td>\n",
       "    </tr>\n",
       "    <tr>\n",
       "      <th>no2</th>\n",
       "      <td>623.0</td>\n",
       "      <td>-2.136921</td>\n",
       "      <td>56.758618</td>\n",
       "      <td>-995.000</td>\n",
       "      <td>0.003000</td>\n",
       "      <td>0.005000</td>\n",
       "      <td>0.008000</td>\n",
       "      <td>88.700000</td>\n",
       "    </tr>\n",
       "    <tr>\n",
       "      <th>o3</th>\n",
       "      <td>66.0</td>\n",
       "      <td>9.772078</td>\n",
       "      <td>25.407541</td>\n",
       "      <td>0.001</td>\n",
       "      <td>0.045250</td>\n",
       "      <td>0.055000</td>\n",
       "      <td>0.063000</td>\n",
       "      <td>104.000000</td>\n",
       "    </tr>\n",
       "    <tr>\n",
       "      <th>pm10</th>\n",
       "      <td>1901.0</td>\n",
       "      <td>13.836330</td>\n",
       "      <td>88.880406</td>\n",
       "      <td>0.000</td>\n",
       "      <td>3.034483</td>\n",
       "      <td>7.675862</td>\n",
       "      <td>13.011538</td>\n",
       "      <td>3327.856667</td>\n",
       "    </tr>\n",
       "    <tr>\n",
       "      <th>pm25</th>\n",
       "      <td>2538.0</td>\n",
       "      <td>10.892611</td>\n",
       "      <td>78.855214</td>\n",
       "      <td>-999.000</td>\n",
       "      <td>3.187500</td>\n",
       "      <td>7.070135</td>\n",
       "      <td>11.183621</td>\n",
       "      <td>3327.856667</td>\n",
       "    </tr>\n",
       "    <tr>\n",
       "      <th>so2</th>\n",
       "      <td>326.0</td>\n",
       "      <td>0.347208</td>\n",
       "      <td>2.782938</td>\n",
       "      <td>0.000</td>\n",
       "      <td>0.000000</td>\n",
       "      <td>0.000000</td>\n",
       "      <td>0.001000</td>\n",
       "      <td>41.600000</td>\n",
       "    </tr>\n",
       "  </tbody>\n",
       "</table>\n",
       "</div>"
      ],
      "text/plain": [
       "            count       mean         std      min       25%       50%  \\\n",
       "parameter                                                               \n",
       "co          102.0  33.926408  161.245640    0.000  0.200000  0.200000   \n",
       "no2         623.0  -2.136921   56.758618 -995.000  0.003000  0.005000   \n",
       "o3           66.0   9.772078   25.407541    0.001  0.045250  0.055000   \n",
       "pm10       1901.0  13.836330   88.880406    0.000  3.034483  7.675862   \n",
       "pm25       2538.0  10.892611   78.855214 -999.000  3.187500  7.070135   \n",
       "so2         326.0   0.347208    2.782938    0.000  0.000000  0.000000   \n",
       "\n",
       "                 75%          max  \n",
       "parameter                          \n",
       "co          0.300000  1330.000000  \n",
       "no2         0.008000    88.700000  \n",
       "o3          0.063000   104.000000  \n",
       "pm10       13.011538  3327.856667  \n",
       "pm25       11.183621  3327.856667  \n",
       "so2         0.001000    41.600000  "
      ]
     },
     "execution_count": 23,
     "metadata": {},
     "output_type": "execute_result"
    }
   ],
   "source": [
    "# Summary statistics for major pollutants\n",
    "major_pollutants = ['pm25', 'pm10', 'no2', 'so2', 'co', 'o3']\n",
    "pollutant_df = df[df['parameter'].isin(major_pollutants)]\n",
    "summary_stats = pollutant_df.groupby('parameter')['value'].describe()\n",
    "summary_stats\n"
   ]
  },
  {
   "cell_type": "markdown",
   "metadata": {},
   "source": [
    "## Additional Analysis\n",
    "\n",
    "### Exploring Extreme Values\n",
    "The extreme values in pollutants like CO, PM10, and PM2.5 need further investigation to identify anomalies or environmental events.\n",
    "\n",
    "### Data Quality Checks\n",
    "Negative values in NO2 suggest potential issues with data quality.\n",
    "\n",
    "### Time Series Analysis\n",
    "Analyzing pollutant levels over time could reveal important trends and seasonal patterns.\n",
    "\n",
    "### Geographical Analysis\n",
    "Investigating data by country or region might provide insights into geographical variations in air quality.\n",
    "\n",
    "### Impact of Data Source\n",
    "Comparing data from different sources (governmental vs. community organizations) could highlight monitoring differences.\n"
   ]
  },
  {
   "cell_type": "markdown",
   "metadata": {},
   "source": [
    "## Visualizing Air Pollutant Levels Over Time\n",
    "\n",
    "We create visualizations to observe trends in the concentration of various air pollutants.\n"
   ]
  },
  {
   "cell_type": "code",
   "execution_count": null,
   "metadata": {},
   "outputs": [
    {
     "name": "stderr",
     "output_type": "stream",
     "text": [
      "C:\\Users\\Asus\\AppData\\Local\\Temp\\ipykernel_17784\\571420968.py:10: FutureWarning: \n",
      "\n",
      "The `ci` parameter is deprecated. Use `errorbar=None` for the same effect.\n",
      "\n",
      "  sns.lineplot(data=filtered_df, x='date', y='value', hue='parameter', ci=None)\n"
     ]
    },
    {
     "data": {
      "image/png": "[encoded data removed]",
      "text/plain": [
       "<Figure size 1500x800 with 1 Axes>"
      ]
     },
     "metadata": {},
     "output_type": "display_data"
    },
    {
     "data": {
      "image/png": "[encoded data removed]",
      "text/plain": [
       "<Figure size 1200x600 with 1 Axes>"
      ]
     },
     "metadata": {},
     "output_type": "display_data"
    }
   ],
   "source": [
    "# Setting the visual style for the plots\n",
    "sns.set_style(\"whitegrid\")\n",
    "\n",
    "# Filtering out the major pollutants for visualization\n",
    "major_pollutants = ['pm25', 'pm10', 'no2', 'so2', 'co', 'o3']\n",
    "filtered_df = df[df['parameter'].isin(major_pollutants)]\n",
    "\n",
    "# Line plot for pollutant levels over time\n",
    "plt.figure(figsize=(15, 8))\n",
    "sns.lineplot(data=filtered_df, x='date', y='value', hue='parameter', ci=None)\n",
    "plt.title('Air Pollutant Levels Over Time')\n",
    "plt.xlabel('Date')\n",
    "plt.ylabel('Pollutant Value')\n",
    "plt.xticks(rotation=45)\n",
    "plt.legend(title='Pollutant')\n",
    "plt.tight_layout()\n",
    "plt.show()\n",
    "\n",
    "# Boxplot for distribution of pollutant values\n",
    "plt.figure(figsize=(12, 6))\n",
    "sns.boxplot(data=filtered_df, x='parameter', y='value')\n",
    "plt.title('Distribution of Pollutant Values')\n",
    "plt.xlabel('Pollutant')\n",
    "plt.ylabel('Value')\n",
    "plt.show()\n"
   ]
  },
  {
   "cell_type": "markdown",
   "metadata": {},
   "source": [
    "## Analysis and Insights\n",
    "\n",
    "Based on the visualizations and data analysis, we derive the following insights:\n",
    "\n",
    "1. **Seasonal and Temporal Trends**: Identify any seasonal or temporal patterns in air pollutant levels.\n",
    "2. **Comparative Pollutant Analysis**: Assess which pollutants have higher concentrations and variability.\n",
    "3. **Geographical and Environmental Implications**: If location data is available, analyze geographical variations and potential environmental impacts.\n"
   ]
  },
  {
   "cell_type": "markdown",
   "metadata": {},
   "source": [
    "# Conclusion\n",
    "\n",
    "This notebook provided an overview of fetching and analyzing air quality data from the OpenAQ API. The dataset offers valuable insights into global air quality, which can be leveraged for various research and policy-making purposes.\n",
    "\n",
    "The `TheatreScraper` class effectively scraped comprehensive theatre information from the specified website. This dataset is valuable for various analytical and research purposes in the fields of culture, entertainment, and urban studies.\n",
    "\n",
    "The analysis of the OpenAQ air quality data reveals important trends and characteristics of air pollutants. These insights are crucial for environmental monitoring and public health policy-making. Further analysis could include geographical comparisons, correlation with external factors, and assessment against air quality standards.\n",
    "\n",
    "This analysis of the OpenAQ air quality data has revealed significant insights into global pollution levels and data quality concerns. Further detailed temporal and geographical analysis could enhance our understanding of global air quality patterns and their impact on public health and environmental policy.\n"
   ]
  },
  {
   "cell_type": "markdown",
   "metadata": {},
   "source": [
    "## References \n",
    "\n",
    "\n",
    "- BeautifulSoup Documentation: https://beautiful-soup-4.readthedocs.io/en/latest/\n",
    "\n",
    "- Pandas Documentation:\n",
    " \n",
    "- https://pandas.pydata.org/docs/\n",
    "\n",
    "- Seaborn Documentation:\n",
    " \n",
    "- https://seaborn.pydata.org/\n",
    "\n",
    "- Matplotlib Documentation: https://matplotlib.org/stable/index.html\n",
    "\n",
    "- Requests Library Documentation: https://requests.readthedocs.io/\n",
    "\n",
    "\n",
    "- Task 1 - https://www.khanacademy.org/\n",
    "\n",
    "- Task 2 - https://api.openaq.org/v2\n",
    "\n",
    "- Task 3 - https://www.cinemaprofile.com/theatre/theatres-list-in-india.html \n",
    "\n",
    "\n"
   ]
  },
  {
   "cell_type": "markdown",
   "metadata": {},
   "source": []
  }
 ],
 "metadata": {
  "kernelspec": {
   "display_name": "Python 3",
   "language": "python",
   "name": "python3"
  },
  "language_info": {
   "codemirror_mode": {
    "name": "ipython",
    "version": 3
   },
   "file_extension": ".py",
   "mimetype": "text/x-python",
   "name": "python",
   "nbconvert_exporter": "python",
   "pygments_lexer": "ipython3",
   "version": "3.12.0"
  }
 },
 "nbformat": 4,
 "nbformat_minor": 2
}
